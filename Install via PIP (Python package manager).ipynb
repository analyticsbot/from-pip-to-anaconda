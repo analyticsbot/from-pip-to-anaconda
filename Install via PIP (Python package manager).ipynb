{
 "cells": [
  {
   "cell_type": "markdown",
   "metadata": {},
   "source": [
    "### What is Pip?"
   ]
  },
  {
   "cell_type": "markdown",
   "metadata": {},
   "source": [
    "- De facto standard package-management system \n",
    "- used to install and manage software packages written in Python\n",
    "<br><br>\n",
    "- Most recent distributions of Python come with pip preinstalled"
   ]
  },
  {
   "cell_type": "markdown",
   "metadata": {},
   "source": [
    "### How to use pip?"
   ]
  },
  {
   "cell_type": "markdown",
   "metadata": {},
   "source": [
    "#### Install a package"
   ]
  },
  {
   "cell_type": "code",
   "execution_count": null,
   "metadata": {},
   "outputs": [],
   "source": [
    "$ pip install keras"
   ]
  },
  {
   "cell_type": "markdown",
   "metadata": {},
   "source": [
    "#### Uninstall a package"
   ]
  },
  {
   "cell_type": "code",
   "execution_count": null,
   "metadata": {},
   "outputs": [],
   "source": [
    "$ pip uninstall keras"
   ]
  },
  {
   "cell_type": "markdown",
   "metadata": {},
   "source": [
    "#### Update a package"
   ]
  },
  {
   "cell_type": "code",
   "execution_count": null,
   "metadata": {},
   "outputs": [],
   "source": [
    "$ pip install -U keras"
   ]
  },
  {
   "cell_type": "markdown",
   "metadata": {},
   "source": [
    "#### Install packages from a file"
   ]
  },
  {
   "cell_type": "code",
   "execution_count": null,
   "metadata": {},
   "outputs": [],
   "source": [
    "$ pip install -r requirements.txt"
   ]
  },
  {
   "cell_type": "markdown",
   "metadata": {},
   "source": [
    "#### Update package to specific version"
   ]
  },
  {
   "cell_type": "code",
   "execution_count": null,
   "metadata": {},
   "outputs": [],
   "source": [
    "$ pip install keras==2.2.4"
   ]
  },
  {
   "cell_type": "markdown",
   "metadata": {},
   "source": [
    "#### List all packages"
   ]
  },
  {
   "cell_type": "code",
   "execution_count": null,
   "metadata": {},
   "outputs": [],
   "source": [
    "$ pip list"
   ]
  },
  {
   "cell_type": "markdown",
   "metadata": {},
   "source": [
    "#### All commands with pip"
   ]
  },
  {
   "cell_type": "code",
   "execution_count": null,
   "metadata": {},
   "outputs": [],
   "source": [
    "$ pip help\n",
    "\n",
    "Usage:   \n",
    "  pip <command> [options]\n",
    "\n",
    "Commands:\n",
    "  install                     Install packages.\n",
    "  download                    Download packages.\n",
    "  uninstall                   Uninstall packages.\n",
    "  freeze                      Output installed packages in requirements format.\n",
    "  list                        List installed packages.\n",
    "  show                        Show information about installed packages.\n",
    "  check                       Verify installed packages have compatible dependencies.\n",
    "  config                      Manage local and global configuration.\n",
    "  search                      Search PyPI for packages.\n",
    "  wheel                       Build wheels from your requirements.\n",
    "  hash                        Compute hashes of package archives.\n",
    "  completion                  A helper command used for command completion.\n",
    "  help                        Show help for commands.\n",
    "\n",
    "General Options:\n",
    "  -h, --help                  Show help.\n",
    "  --isolated                  Run pip in an isolated mode, ignoring environment variables and user configuration.\n",
    "  -v, --verbose               Give more output. Option is additive, and can be used up to 3 times.\n",
    "  -V, --version               Show version and exit.\n",
    "  -q, --quiet                 Give less output. Option is additive, and can be used up to 3 times (corresponding to WARNING, ERROR, and CRITICAL logging levels).\n",
    "  --log <path>                Path to a verbose appending log.\n",
    "  --proxy <proxy>             Specify a proxy in the form [user:passwd@]proxy.server:port.\n",
    "  --retries <retries>         Maximum number of retries each connection should attempt (default 5 times).\n",
    "  --timeout <sec>             Set the socket timeout (default 15 seconds).\n",
    "  --exists-action <action>    Default action when a path already exists: (s)witch, (i)gnore, (w)ipe, (b)ackup, (a)bort).\n",
    "  --trusted-host <hostname>   Mark this host as trusted, even though it does not have valid or any HTTPS.\n",
    "  --cert <path>               Path to alternate CA bundle.\n",
    "  --client-cert <path>        Path to SSL client certificate, a single file containing the private key and the certificate in PEM format.\n",
    "  --cache-dir <dir>           Store the cache data in <dir>.\n",
    "  --no-cache-dir              Disable the cache.\n",
    "  --disable-pip-version-check\n",
    "                              Don't periodically check PyPI to determine whether a new version of pip is available for download. Implied with --no-index.\n",
    "  --no-color                  Suppress colored output"
   ]
  },
  {
   "cell_type": "markdown",
   "metadata": {},
   "source": [
    "### Virtual Environments with PIP"
   ]
  },
  {
   "cell_type": "markdown",
   "metadata": {},
   "source": [
    "#### Handling virtual environment in Python using pip"
   ]
  },
  {
   "cell_type": "markdown",
   "metadata": {},
   "source": [
    "##### Install virtualenv package"
   ]
  },
  {
   "cell_type": "code",
   "execution_count": null,
   "metadata": {},
   "outputs": [],
   "source": [
    "$ pip install virtualenv"
   ]
  },
  {
   "cell_type": "markdown",
   "metadata": {},
   "source": [
    "##### Create a new directory and cd into it"
   ]
  },
  {
   "cell_type": "code",
   "execution_count": null,
   "metadata": {},
   "outputs": [],
   "source": [
    "$ mkdir newdir\n",
    "$ cd newdir"
   ]
  },
  {
   "cell_type": "markdown",
   "metadata": {},
   "source": [
    "##### Create a new virtual environment"
   ]
  },
  {
   "cell_type": "code",
   "execution_count": null,
   "metadata": {},
   "outputs": [],
   "source": [
    "$ python3 -m venv env_name"
   ]
  },
  {
   "cell_type": "markdown",
   "metadata": {},
   "source": [
    "##### Activate the virtual environment"
   ]
  },
  {
   "cell_type": "code",
   "execution_count": null,
   "metadata": {},
   "outputs": [],
   "source": [
    "$ source env_name/bin/activate"
   ]
  },
  {
   "cell_type": "markdown",
   "metadata": {},
   "source": [
    "#### How to tell the difference?"
   ]
  },
  {
   "cell_type": "code",
   "execution_count": null,
   "metadata": {},
   "outputs": [],
   "source": [
    "$ which python\n",
    "\n",
    "$ source env_name/bin/activate\n",
    "$ which python"
   ]
  }
 ],
 "metadata": {
  "kernelspec": {
   "display_name": "Python 3",
   "language": "python",
   "name": "python3"
  },
  "language_info": {
   "codemirror_mode": {
    "name": "ipython",
    "version": 3
   },
   "file_extension": ".py",
   "mimetype": "text/x-python",
   "name": "python",
   "nbconvert_exporter": "python",
   "pygments_lexer": "ipython3",
   "version": "3.7.2"
  },
  "toc": {
   "base_numbering": 1,
   "nav_menu": {},
   "number_sections": true,
   "sideBar": true,
   "skip_h1_title": false,
   "title_cell": "Table of Contents",
   "title_sidebar": "Contents",
   "toc_cell": false,
   "toc_position": {},
   "toc_section_display": true,
   "toc_window_display": false
  }
 },
 "nbformat": 4,
 "nbformat_minor": 2
}
