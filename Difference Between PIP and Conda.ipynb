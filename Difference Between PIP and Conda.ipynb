{
 "cells": [
  {
   "cell_type": "markdown",
   "metadata": {},
   "source": [
    "### Difference Between PIP and Conda"
   ]
  },
  {
   "cell_type": "markdown",
   "metadata": {},
   "source": [
    "**pip**\n",
    "- Conda and pip are often considered as being nearly identical\n",
    "- designed and should be used for different purposes \n",
    "- Pip is the Python Packaging Authority’s recommended tool for \n",
    "installing packages from the Python Package Index, PyPI\n",
    "- Pip installs Python software packaged as wheels or source \n",
    "distributions\n",
    "- When installing packages, pip installs dependencies in a recursive, serial loop. \n",
    "\n",
    "<br><br>\n",
    "**Conda**\n",
    "- Conda is a cross platform package and environment manager \n",
    "- Used to install and manage conda packages from the Anaconda \n",
    "repository as well as from the Anaconda Cloud\n",
    "- Conda packages are binaries. \n",
    "- Additionally conda packages are not limited to \n",
    "Python software. They may also contain C or C++ libraries, \n",
    "R packages or any other software.\n",
    "- conda uses a satisfiability (SAT) solver to verify that all requirements of all packages installed in an environment are met. This check can take extra time but helps prevent the creation of broken environments."
   ]
  },
  {
   "cell_type": "code",
   "execution_count": null,
   "metadata": {},
   "outputs": [],
   "source": [
    "## taken from\n",
    "# https://www.anaconda.com/blog/understanding-conda-and-pip"
   ]
  }
 ],
 "metadata": {
  "kernelspec": {
   "display_name": "Python 3",
   "language": "python",
   "name": "python3"
  },
  "language_info": {
   "codemirror_mode": {
    "name": "ipython",
    "version": 3
   },
   "file_extension": ".py",
   "mimetype": "text/x-python",
   "name": "python",
   "nbconvert_exporter": "python",
   "pygments_lexer": "ipython3",
   "version": "3.7.2"
  },
  "toc": {
   "base_numbering": 1,
   "nav_menu": {},
   "number_sections": true,
   "sideBar": true,
   "skip_h1_title": false,
   "title_cell": "Table of Contents",
   "title_sidebar": "Contents",
   "toc_cell": false,
   "toc_position": {},
   "toc_section_display": true,
   "toc_window_display": false
  }
 },
 "nbformat": 4,
 "nbformat_minor": 2
}
